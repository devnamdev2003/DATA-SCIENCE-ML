{
 "cells": [
  {
   "cell_type": "markdown",
   "id": "62d7adb9",
   "metadata": {},
   "source": [
    "# DATA SCIENCE & ML INTERNSHIP \n",
    "## MINI PROJECT\n",
    "---"
   ]
  },
  {
   "cell_type": "code",
   "execution_count": 1,
   "id": "6bf42377",
   "metadata": {},
   "outputs": [],
   "source": [
    "import pandas as pd\n",
    "import numpy as np\n",
    "import matplotlib.pyplot as plt"
   ]
  },
  {
   "cell_type": "markdown",
   "id": "8f5ebf7a",
   "metadata": {},
   "source": [
    "**1. Read the csv file named windpower.csv**"
   ]
  },
  {
   "cell_type": "code",
   "execution_count": 2,
   "id": "095a5672",
   "metadata": {},
   "outputs": [],
   "source": [
    "dataset=pd.read_csv('windpower.csv')"
   ]
  },
  {
   "cell_type": "markdown",
   "id": "a5455aa1",
   "metadata": {},
   "source": [
    "**2.Print the top 10 rows**"
   ]
  },
  {
   "cell_type": "code",
   "execution_count": 3,
   "id": "6b0ff10a",
   "metadata": {},
   "outputs": [
    {
     "data": {
      "text/html": [
       "<div>\n",
       "<style scoped>\n",
       "    .dataframe tbody tr th:only-of-type {\n",
       "        vertical-align: middle;\n",
       "    }\n",
       "\n",
       "    .dataframe tbody tr th {\n",
       "        vertical-align: top;\n",
       "    }\n",
       "\n",
       "    .dataframe thead th {\n",
       "        text-align: right;\n",
       "    }\n",
       "</style>\n",
       "<table border=\"1\" class=\"dataframe\">\n",
       "  <thead>\n",
       "    <tr style=\"text-align: right;\">\n",
       "      <th></th>\n",
       "      <th>Date/Time</th>\n",
       "      <th>LV ActivePower (kW)</th>\n",
       "      <th>Wind Speed (m/s)</th>\n",
       "      <th>Theoretical_Power_Curve (KWh)</th>\n",
       "      <th>Wind Direction (°)</th>\n",
       "    </tr>\n",
       "  </thead>\n",
       "  <tbody>\n",
       "    <tr>\n",
       "      <th>0</th>\n",
       "      <td>01 01 2018 00:00</td>\n",
       "      <td>380.047791</td>\n",
       "      <td>5.311336</td>\n",
       "      <td>416.328908</td>\n",
       "      <td>259.994904</td>\n",
       "    </tr>\n",
       "    <tr>\n",
       "      <th>1</th>\n",
       "      <td>01 01 2018 00:10</td>\n",
       "      <td>453.769196</td>\n",
       "      <td>5.672167</td>\n",
       "      <td>519.917511</td>\n",
       "      <td>268.641113</td>\n",
       "    </tr>\n",
       "    <tr>\n",
       "      <th>2</th>\n",
       "      <td>01 01 2018 00:20</td>\n",
       "      <td>306.376587</td>\n",
       "      <td>5.216037</td>\n",
       "      <td>390.900016</td>\n",
       "      <td>272.564789</td>\n",
       "    </tr>\n",
       "    <tr>\n",
       "      <th>3</th>\n",
       "      <td>01 01 2018 00:30</td>\n",
       "      <td>419.645904</td>\n",
       "      <td>5.659674</td>\n",
       "      <td>516.127569</td>\n",
       "      <td>271.258087</td>\n",
       "    </tr>\n",
       "    <tr>\n",
       "      <th>4</th>\n",
       "      <td>01 01 2018 00:40</td>\n",
       "      <td>380.650696</td>\n",
       "      <td>5.577941</td>\n",
       "      <td>491.702972</td>\n",
       "      <td>265.674286</td>\n",
       "    </tr>\n",
       "    <tr>\n",
       "      <th>5</th>\n",
       "      <td>01 01 2018 00:50</td>\n",
       "      <td>402.391998</td>\n",
       "      <td>5.604052</td>\n",
       "      <td>499.436385</td>\n",
       "      <td>264.578613</td>\n",
       "    </tr>\n",
       "    <tr>\n",
       "      <th>6</th>\n",
       "      <td>01 01 2018 01:00</td>\n",
       "      <td>447.605713</td>\n",
       "      <td>5.793008</td>\n",
       "      <td>557.372363</td>\n",
       "      <td>266.163605</td>\n",
       "    </tr>\n",
       "    <tr>\n",
       "      <th>7</th>\n",
       "      <td>01 01 2018 01:10</td>\n",
       "      <td>387.242188</td>\n",
       "      <td>5.306050</td>\n",
       "      <td>414.898179</td>\n",
       "      <td>257.949493</td>\n",
       "    </tr>\n",
       "    <tr>\n",
       "      <th>8</th>\n",
       "      <td>01 01 2018 01:20</td>\n",
       "      <td>463.651215</td>\n",
       "      <td>5.584629</td>\n",
       "      <td>493.677652</td>\n",
       "      <td>253.480698</td>\n",
       "    </tr>\n",
       "    <tr>\n",
       "      <th>9</th>\n",
       "      <td>01 01 2018 01:30</td>\n",
       "      <td>439.725708</td>\n",
       "      <td>5.523228</td>\n",
       "      <td>475.706783</td>\n",
       "      <td>258.723785</td>\n",
       "    </tr>\n",
       "  </tbody>\n",
       "</table>\n",
       "</div>"
      ],
      "text/plain": [
       "          Date/Time  LV ActivePower (kW)  Wind Speed (m/s)  \\\n",
       "0  01 01 2018 00:00           380.047791          5.311336   \n",
       "1  01 01 2018 00:10           453.769196          5.672167   \n",
       "2  01 01 2018 00:20           306.376587          5.216037   \n",
       "3  01 01 2018 00:30           419.645904          5.659674   \n",
       "4  01 01 2018 00:40           380.650696          5.577941   \n",
       "5  01 01 2018 00:50           402.391998          5.604052   \n",
       "6  01 01 2018 01:00           447.605713          5.793008   \n",
       "7  01 01 2018 01:10           387.242188          5.306050   \n",
       "8  01 01 2018 01:20           463.651215          5.584629   \n",
       "9  01 01 2018 01:30           439.725708          5.523228   \n",
       "\n",
       "   Theoretical_Power_Curve (KWh)  Wind Direction (°)  \n",
       "0                     416.328908          259.994904  \n",
       "1                     519.917511          268.641113  \n",
       "2                     390.900016          272.564789  \n",
       "3                     516.127569          271.258087  \n",
       "4                     491.702972          265.674286  \n",
       "5                     499.436385          264.578613  \n",
       "6                     557.372363          266.163605  \n",
       "7                     414.898179          257.949493  \n",
       "8                     493.677652          253.480698  \n",
       "9                     475.706783          258.723785  "
      ]
     },
     "execution_count": 3,
     "metadata": {},
     "output_type": "execute_result"
    }
   ],
   "source": [
    "dataset.head(10)"
   ]
  },
  {
   "cell_type": "markdown",
   "id": "344a82b3",
   "metadata": {},
   "source": [
    "**3. Print the bottom 5 rows**"
   ]
  },
  {
   "cell_type": "code",
   "execution_count": 4,
   "id": "9b8c8cf1",
   "metadata": {},
   "outputs": [
    {
     "data": {
      "text/html": [
       "<div>\n",
       "<style scoped>\n",
       "    .dataframe tbody tr th:only-of-type {\n",
       "        vertical-align: middle;\n",
       "    }\n",
       "\n",
       "    .dataframe tbody tr th {\n",
       "        vertical-align: top;\n",
       "    }\n",
       "\n",
       "    .dataframe thead th {\n",
       "        text-align: right;\n",
       "    }\n",
       "</style>\n",
       "<table border=\"1\" class=\"dataframe\">\n",
       "  <thead>\n",
       "    <tr style=\"text-align: right;\">\n",
       "      <th></th>\n",
       "      <th>Date/Time</th>\n",
       "      <th>LV ActivePower (kW)</th>\n",
       "      <th>Wind Speed (m/s)</th>\n",
       "      <th>Theoretical_Power_Curve (KWh)</th>\n",
       "      <th>Wind Direction (°)</th>\n",
       "    </tr>\n",
       "  </thead>\n",
       "  <tbody>\n",
       "    <tr>\n",
       "      <th>50525</th>\n",
       "      <td>31 12 2018 23:10</td>\n",
       "      <td>2963.980957</td>\n",
       "      <td>11.404030</td>\n",
       "      <td>3397.190793</td>\n",
       "      <td>80.502724</td>\n",
       "    </tr>\n",
       "    <tr>\n",
       "      <th>50526</th>\n",
       "      <td>31 12 2018 23:20</td>\n",
       "      <td>1684.353027</td>\n",
       "      <td>7.332648</td>\n",
       "      <td>1173.055771</td>\n",
       "      <td>84.062599</td>\n",
       "    </tr>\n",
       "    <tr>\n",
       "      <th>50527</th>\n",
       "      <td>31 12 2018 23:30</td>\n",
       "      <td>2201.106934</td>\n",
       "      <td>8.435358</td>\n",
       "      <td>1788.284755</td>\n",
       "      <td>84.742500</td>\n",
       "    </tr>\n",
       "    <tr>\n",
       "      <th>50528</th>\n",
       "      <td>31 12 2018 23:40</td>\n",
       "      <td>2515.694092</td>\n",
       "      <td>9.421366</td>\n",
       "      <td>2418.382503</td>\n",
       "      <td>84.297913</td>\n",
       "    </tr>\n",
       "    <tr>\n",
       "      <th>50529</th>\n",
       "      <td>31 12 2018 23:50</td>\n",
       "      <td>2820.466064</td>\n",
       "      <td>9.979332</td>\n",
       "      <td>2779.184096</td>\n",
       "      <td>82.274620</td>\n",
       "    </tr>\n",
       "  </tbody>\n",
       "</table>\n",
       "</div>"
      ],
      "text/plain": [
       "              Date/Time  LV ActivePower (kW)  Wind Speed (m/s)  \\\n",
       "50525  31 12 2018 23:10          2963.980957         11.404030   \n",
       "50526  31 12 2018 23:20          1684.353027          7.332648   \n",
       "50527  31 12 2018 23:30          2201.106934          8.435358   \n",
       "50528  31 12 2018 23:40          2515.694092          9.421366   \n",
       "50529  31 12 2018 23:50          2820.466064          9.979332   \n",
       "\n",
       "       Theoretical_Power_Curve (KWh)  Wind Direction (°)  \n",
       "50525                    3397.190793           80.502724  \n",
       "50526                    1173.055771           84.062599  \n",
       "50527                    1788.284755           84.742500  \n",
       "50528                    2418.382503           84.297913  \n",
       "50529                    2779.184096           82.274620  "
      ]
     },
     "execution_count": 4,
     "metadata": {},
     "output_type": "execute_result"
    }
   ],
   "source": [
    "dataset.tail()"
   ]
  },
  {
   "cell_type": "markdown",
   "id": "2fa64ccb",
   "metadata": {},
   "source": [
    "**4.\tDisplay the structure of dataset with datatypes.**\n"
   ]
  },
  {
   "cell_type": "code",
   "execution_count": 5,
   "id": "be044020",
   "metadata": {},
   "outputs": [
    {
     "name": "stdout",
     "output_type": "stream",
     "text": [
      "<class 'pandas.core.frame.DataFrame'>\n",
      "RangeIndex: 50530 entries, 0 to 50529\n",
      "Data columns (total 5 columns):\n",
      " #   Column                         Non-Null Count  Dtype  \n",
      "---  ------                         --------------  -----  \n",
      " 0   Date/Time                      50530 non-null  object \n",
      " 1   LV ActivePower (kW)            50530 non-null  float64\n",
      " 2   Wind Speed (m/s)               50528 non-null  float64\n",
      " 3   Theoretical_Power_Curve (KWh)  50530 non-null  float64\n",
      " 4   Wind Direction (°)             50530 non-null  float64\n",
      "dtypes: float64(4), object(1)\n",
      "memory usage: 1.9+ MB\n"
     ]
    }
   ],
   "source": [
    "dataset.info()"
   ]
  },
  {
   "cell_type": "markdown",
   "id": "620168e8",
   "metadata": {},
   "source": [
    "**5.\tFind out Mean, Standard deviation, Min, Max for the column wind speed.**"
   ]
  },
  {
   "cell_type": "code",
   "execution_count": 6,
   "id": "915c6312",
   "metadata": {},
   "outputs": [
    {
     "name": "stdout",
     "output_type": "stream",
     "text": [
      "Mean: 7.558010703817705\n",
      "Standard deviation: 4.227238904770333\n",
      "Min: 0.0\n",
      "Max: 25.20601082\n"
     ]
    }
   ],
   "source": [
    "print(\"Mean:\",dataset[\"Wind Speed (m/s)\"].mean())\n",
    "print(\"Standard deviation:\",dataset[\"Wind Speed (m/s)\"].std())\n",
    "print(\"Min:\",dataset[\"Wind Speed (m/s)\"].min())\n",
    "print(\"Max:\",dataset[\"Wind Speed (m/s)\"].max())"
   ]
  },
  {
   "cell_type": "markdown",
   "id": "3f1e244f",
   "metadata": {},
   "source": [
    "**6. Fill the NULL values with the average value of that column.**\n",
    "\n",
    "first of all, check which column has a null value"
   ]
  },
  {
   "cell_type": "code",
   "execution_count": 7,
   "id": "13f00f5e",
   "metadata": {
    "scrolled": true
   },
   "outputs": [
    {
     "data": {
      "text/plain": [
       "Date/Time                        0\n",
       "LV ActivePower (kW)              0\n",
       "Wind Speed (m/s)                 2\n",
       "Theoretical_Power_Curve (KWh)    0\n",
       "Wind Direction (°)               0\n",
       "dtype: int64"
      ]
     },
     "execution_count": 7,
     "metadata": {},
     "output_type": "execute_result"
    }
   ],
   "source": [
    "dataset.isnull().sum()"
   ]
  },
  {
   "cell_type": "markdown",
   "id": "7834ef7c",
   "metadata": {},
   "source": [
    "This means that there are two Null values in the wind speed column. So now we fill in these Null values with the average value of the wind speed column."
   ]
  },
  {
   "cell_type": "code",
   "execution_count": 8,
   "id": "69d3a9b5",
   "metadata": {},
   "outputs": [
    {
     "data": {
      "text/plain": [
       "Date/Time                        0\n",
       "LV ActivePower (kW)              0\n",
       "Wind Speed (m/s)                 0\n",
       "Theoretical_Power_Curve (KWh)    0\n",
       "Wind Direction (°)               0\n",
       "dtype: int64"
      ]
     },
     "execution_count": 8,
     "metadata": {},
     "output_type": "execute_result"
    }
   ],
   "source": [
    "x = dataset[\"Wind Speed (m/s)\"].mean()\n",
    "dataset[\"Wind Speed (m/s)\"].fillna(x, inplace = True)\n",
    "dataset.isnull().sum()"
   ]
  },
  {
   "cell_type": "markdown",
   "id": "91957779",
   "metadata": {},
   "source": [
    "**7. Create a histogram plot for the column windspeed**"
   ]
  },
  {
   "cell_type": "code",
   "execution_count": 9,
   "id": "749f3fa7",
   "metadata": {},
   "outputs": [
    {
     "data": {
      "text/plain": [
       "<AxesSubplot:ylabel='Frequency'>"
      ]
     },
     "execution_count": 9,
     "metadata": {},
     "output_type": "execute_result"
    },
    {
     "data": {
      "image/png": "[encoded data removed]",
      "text/plain": [
       "<Figure size 432x288 with 1 Axes>"
      ]
     },
     "metadata": {
      "needs_background": "light"
     },
     "output_type": "display_data"
    }
   ],
   "source": [
    "dataset[\"Wind Speed (m/s)\"].plot(kind = 'hist')"
   ]
  },
  {
   "cell_type": "markdown",
   "id": "08442c4a",
   "metadata": {},
   "source": [
    "**8. Create scatter plot between windspeed and Theoretical power curve.**"
   ]
  },
  {
   "cell_type": "code",
   "execution_count": 10,
   "id": "3bcfef6a",
   "metadata": {},
   "outputs": [
    {
     "data": {
      "image/png": "[encoded data removed]",
      "text/plain": [
       "<Figure size 432x288 with 1 Axes>"
      ]
     },
     "metadata": {
      "needs_background": "light"
     },
     "output_type": "display_data"
    }
   ],
   "source": [
    "dataset.plot(kind = 'scatter', x = 'Wind Speed (m/s)', y = 'Theoretical_Power_Curve (KWh)')\n",
    "plt.show()"
   ]
  },
  {
   "cell_type": "markdown",
   "id": "619ed17d",
   "metadata": {},
   "source": [
    "**9.\tDisplay the rows where windspeed <5**"
   ]
  },
  {
   "cell_type": "code",
   "execution_count": 11,
   "id": "307a6bfc",
   "metadata": {},
   "outputs": [
    {
     "data": {
      "text/html": [
       "<div>\n",
       "<style scoped>\n",
       "    .dataframe tbody tr th:only-of-type {\n",
       "        vertical-align: middle;\n",
       "    }\n",
       "\n",
       "    .dataframe tbody tr th {\n",
       "        vertical-align: top;\n",
       "    }\n",
       "\n",
       "    .dataframe thead th {\n",
       "        text-align: right;\n",
       "    }\n",
       "</style>\n",
       "<table border=\"1\" class=\"dataframe\">\n",
       "  <thead>\n",
       "    <tr style=\"text-align: right;\">\n",
       "      <th></th>\n",
       "      <th>Date/Time</th>\n",
       "      <th>LV ActivePower (kW)</th>\n",
       "      <th>Wind Speed (m/s)</th>\n",
       "      <th>Theoretical_Power_Curve (KWh)</th>\n",
       "      <th>Wind Direction (°)</th>\n",
       "    </tr>\n",
       "  </thead>\n",
       "  <tbody>\n",
       "    <tr>\n",
       "      <th>55</th>\n",
       "      <td>01 01 2018 09:10</td>\n",
       "      <td>408.997406</td>\n",
       "      <td>4.977198</td>\n",
       "      <td>330.417630</td>\n",
       "      <td>207.997803</td>\n",
       "    </tr>\n",
       "    <tr>\n",
       "      <th>64</th>\n",
       "      <td>01 01 2018 10:40</td>\n",
       "      <td>311.050903</td>\n",
       "      <td>4.960732</td>\n",
       "      <td>326.411025</td>\n",
       "      <td>229.537506</td>\n",
       "    </tr>\n",
       "    <tr>\n",
       "      <th>65</th>\n",
       "      <td>01 01 2018 10:50</td>\n",
       "      <td>230.055496</td>\n",
       "      <td>4.603875</td>\n",
       "      <td>244.316244</td>\n",
       "      <td>231.798492</td>\n",
       "    </tr>\n",
       "    <tr>\n",
       "      <th>66</th>\n",
       "      <td>01 01 2018 11:00</td>\n",
       "      <td>233.990601</td>\n",
       "      <td>4.554534</td>\n",
       "      <td>233.632780</td>\n",
       "      <td>234.105606</td>\n",
       "    </tr>\n",
       "    <tr>\n",
       "      <th>67</th>\n",
       "      <td>01 01 2018 11:10</td>\n",
       "      <td>175.592194</td>\n",
       "      <td>4.263629</td>\n",
       "      <td>173.573663</td>\n",
       "      <td>228.776703</td>\n",
       "    </tr>\n",
       "    <tr>\n",
       "      <th>...</th>\n",
       "      <td>...</td>\n",
       "      <td>...</td>\n",
       "      <td>...</td>\n",
       "      <td>...</td>\n",
       "      <td>...</td>\n",
       "    </tr>\n",
       "    <tr>\n",
       "      <th>50495</th>\n",
       "      <td>31 12 2018 18:10</td>\n",
       "      <td>341.905487</td>\n",
       "      <td>4.556026</td>\n",
       "      <td>233.953613</td>\n",
       "      <td>91.588493</td>\n",
       "    </tr>\n",
       "    <tr>\n",
       "      <th>50496</th>\n",
       "      <td>31 12 2018 18:20</td>\n",
       "      <td>399.653809</td>\n",
       "      <td>4.798016</td>\n",
       "      <td>287.885241</td>\n",
       "      <td>94.329742</td>\n",
       "    </tr>\n",
       "    <tr>\n",
       "      <th>50497</th>\n",
       "      <td>31 12 2018 18:30</td>\n",
       "      <td>372.079590</td>\n",
       "      <td>4.795230</td>\n",
       "      <td>287.241996</td>\n",
       "      <td>98.706261</td>\n",
       "    </tr>\n",
       "    <tr>\n",
       "      <th>50498</th>\n",
       "      <td>31 12 2018 18:40</td>\n",
       "      <td>411.729187</td>\n",
       "      <td>4.860610</td>\n",
       "      <td>302.480001</td>\n",
       "      <td>97.239059</td>\n",
       "    </tr>\n",
       "    <tr>\n",
       "      <th>50499</th>\n",
       "      <td>31 12 2018 18:50</td>\n",
       "      <td>471.419708</td>\n",
       "      <td>4.994785</td>\n",
       "      <td>334.719439</td>\n",
       "      <td>99.136337</td>\n",
       "    </tr>\n",
       "  </tbody>\n",
       "</table>\n",
       "<p>15744 rows × 5 columns</p>\n",
       "</div>"
      ],
      "text/plain": [
       "              Date/Time  LV ActivePower (kW)  Wind Speed (m/s)  \\\n",
       "55     01 01 2018 09:10           408.997406          4.977198   \n",
       "64     01 01 2018 10:40           311.050903          4.960732   \n",
       "65     01 01 2018 10:50           230.055496          4.603875   \n",
       "66     01 01 2018 11:00           233.990601          4.554534   \n",
       "67     01 01 2018 11:10           175.592194          4.263629   \n",
       "...                 ...                  ...               ...   \n",
       "50495  31 12 2018 18:10           341.905487          4.556026   \n",
       "50496  31 12 2018 18:20           399.653809          4.798016   \n",
       "50497  31 12 2018 18:30           372.079590          4.795230   \n",
       "50498  31 12 2018 18:40           411.729187          4.860610   \n",
       "50499  31 12 2018 18:50           471.419708          4.994785   \n",
       "\n",
       "       Theoretical_Power_Curve (KWh)  Wind Direction (°)  \n",
       "55                        330.417630          207.997803  \n",
       "64                        326.411025          229.537506  \n",
       "65                        244.316244          231.798492  \n",
       "66                        233.632780          234.105606  \n",
       "67                        173.573663          228.776703  \n",
       "...                              ...                 ...  \n",
       "50495                     233.953613           91.588493  \n",
       "50496                     287.885241           94.329742  \n",
       "50497                     287.241996           98.706261  \n",
       "50498                     302.480001           97.239059  \n",
       "50499                     334.719439           99.136337  \n",
       "\n",
       "[15744 rows x 5 columns]"
      ]
     },
     "execution_count": 11,
     "metadata": {},
     "output_type": "execute_result"
    }
   ],
   "source": [
    "dataset[dataset['Wind Speed (m/s)'] <5]"
   ]
  },
  {
   "cell_type": "markdown",
   "id": "d027e1fa",
   "metadata": {},
   "source": [
    "**10.\tExtract the rows where wind direction > 200**\n"
   ]
  },
  {
   "cell_type": "code",
   "execution_count": 12,
   "id": "7d1a9469",
   "metadata": {},
   "outputs": [
    {
     "data": {
      "text/html": [
       "<div>\n",
       "<style scoped>\n",
       "    .dataframe tbody tr th:only-of-type {\n",
       "        vertical-align: middle;\n",
       "    }\n",
       "\n",
       "    .dataframe tbody tr th {\n",
       "        vertical-align: top;\n",
       "    }\n",
       "\n",
       "    .dataframe thead th {\n",
       "        text-align: right;\n",
       "    }\n",
       "</style>\n",
       "<table border=\"1\" class=\"dataframe\">\n",
       "  <thead>\n",
       "    <tr style=\"text-align: right;\">\n",
       "      <th></th>\n",
       "      <th>Date/Time</th>\n",
       "      <th>LV ActivePower (kW)</th>\n",
       "      <th>Wind Speed (m/s)</th>\n",
       "      <th>Theoretical_Power_Curve (KWh)</th>\n",
       "      <th>Wind Direction (°)</th>\n",
       "    </tr>\n",
       "  </thead>\n",
       "  <tbody>\n",
       "    <tr>\n",
       "      <th>0</th>\n",
       "      <td>01 01 2018 00:00</td>\n",
       "      <td>380.047791</td>\n",
       "      <td>5.311336</td>\n",
       "      <td>416.328908</td>\n",
       "      <td>259.994904</td>\n",
       "    </tr>\n",
       "    <tr>\n",
       "      <th>1</th>\n",
       "      <td>01 01 2018 00:10</td>\n",
       "      <td>453.769196</td>\n",
       "      <td>5.672167</td>\n",
       "      <td>519.917511</td>\n",
       "      <td>268.641113</td>\n",
       "    </tr>\n",
       "    <tr>\n",
       "      <th>2</th>\n",
       "      <td>01 01 2018 00:20</td>\n",
       "      <td>306.376587</td>\n",
       "      <td>5.216037</td>\n",
       "      <td>390.900016</td>\n",
       "      <td>272.564789</td>\n",
       "    </tr>\n",
       "    <tr>\n",
       "      <th>3</th>\n",
       "      <td>01 01 2018 00:30</td>\n",
       "      <td>419.645904</td>\n",
       "      <td>5.659674</td>\n",
       "      <td>516.127569</td>\n",
       "      <td>271.258087</td>\n",
       "    </tr>\n",
       "    <tr>\n",
       "      <th>4</th>\n",
       "      <td>01 01 2018 00:40</td>\n",
       "      <td>380.650696</td>\n",
       "      <td>5.577941</td>\n",
       "      <td>491.702972</td>\n",
       "      <td>265.674286</td>\n",
       "    </tr>\n",
       "    <tr>\n",
       "      <th>...</th>\n",
       "      <td>...</td>\n",
       "      <td>...</td>\n",
       "      <td>...</td>\n",
       "      <td>...</td>\n",
       "      <td>...</td>\n",
       "    </tr>\n",
       "    <tr>\n",
       "      <th>50421</th>\n",
       "      <td>31 12 2018 05:50</td>\n",
       "      <td>0.000000</td>\n",
       "      <td>0.431046</td>\n",
       "      <td>0.000000</td>\n",
       "      <td>224.736999</td>\n",
       "    </tr>\n",
       "    <tr>\n",
       "      <th>50422</th>\n",
       "      <td>31 12 2018 06:00</td>\n",
       "      <td>0.000000</td>\n",
       "      <td>0.539925</td>\n",
       "      <td>0.000000</td>\n",
       "      <td>316.677307</td>\n",
       "    </tr>\n",
       "    <tr>\n",
       "      <th>50424</th>\n",
       "      <td>31 12 2018 06:20</td>\n",
       "      <td>0.000000</td>\n",
       "      <td>0.520940</td>\n",
       "      <td>0.000000</td>\n",
       "      <td>211.148102</td>\n",
       "    </tr>\n",
       "    <tr>\n",
       "      <th>50425</th>\n",
       "      <td>31 12 2018 06:30</td>\n",
       "      <td>0.000000</td>\n",
       "      <td>0.971962</td>\n",
       "      <td>0.000000</td>\n",
       "      <td>263.404297</td>\n",
       "    </tr>\n",
       "    <tr>\n",
       "      <th>50429</th>\n",
       "      <td>31 12 2018 07:10</td>\n",
       "      <td>0.000000</td>\n",
       "      <td>0.338600</td>\n",
       "      <td>0.000000</td>\n",
       "      <td>319.640289</td>\n",
       "    </tr>\n",
       "  </tbody>\n",
       "</table>\n",
       "<p>13200 rows × 5 columns</p>\n",
       "</div>"
      ],
      "text/plain": [
       "              Date/Time  LV ActivePower (kW)  Wind Speed (m/s)  \\\n",
       "0      01 01 2018 00:00           380.047791          5.311336   \n",
       "1      01 01 2018 00:10           453.769196          5.672167   \n",
       "2      01 01 2018 00:20           306.376587          5.216037   \n",
       "3      01 01 2018 00:30           419.645904          5.659674   \n",
       "4      01 01 2018 00:40           380.650696          5.577941   \n",
       "...                 ...                  ...               ...   \n",
       "50421  31 12 2018 05:50             0.000000          0.431046   \n",
       "50422  31 12 2018 06:00             0.000000          0.539925   \n",
       "50424  31 12 2018 06:20             0.000000          0.520940   \n",
       "50425  31 12 2018 06:30             0.000000          0.971962   \n",
       "50429  31 12 2018 07:10             0.000000          0.338600   \n",
       "\n",
       "       Theoretical_Power_Curve (KWh)  Wind Direction (°)  \n",
       "0                         416.328908          259.994904  \n",
       "1                         519.917511          268.641113  \n",
       "2                         390.900016          272.564789  \n",
       "3                         516.127569          271.258087  \n",
       "4                         491.702972          265.674286  \n",
       "...                              ...                 ...  \n",
       "50421                       0.000000          224.736999  \n",
       "50422                       0.000000          316.677307  \n",
       "50424                       0.000000          211.148102  \n",
       "50425                       0.000000          263.404297  \n",
       "50429                       0.000000          319.640289  \n",
       "\n",
       "[13200 rows x 5 columns]"
      ]
     },
     "execution_count": 12,
     "metadata": {},
     "output_type": "execute_result"
    }
   ],
   "source": [
    "dataset.loc[dataset['Wind Direction (°)'] >200]"
   ]
  },
  {
   "cell_type": "code",
   "execution_count": null,
   "id": "59c0f3bb",
   "metadata": {},
   "outputs": [],
   "source": []
  }
 ],
 "metadata": {
  "kernelspec": {
   "display_name": "Python 3 (ipykernel)",
   "language": "python",
   "name": "python3"
  },
  "language_info": {
   "codemirror_mode": {
    "name": "ipython",
    "version": 3
   },
   "file_extension": ".py",
   "mimetype": "text/x-python",
   "name": "python",
   "nbconvert_exporter": "python",
   "pygments_lexer": "ipython3",
   "version": "3.10.5"
  }
 },
 "nbformat": 4,
 "nbformat_minor": 5
}
