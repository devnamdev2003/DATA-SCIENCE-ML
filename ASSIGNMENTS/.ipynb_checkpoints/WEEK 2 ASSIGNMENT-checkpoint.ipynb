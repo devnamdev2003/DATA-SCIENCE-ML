{
 "cells": [
  {
   "cell_type": "markdown",
   "id": "b4886182",
   "metadata": {},
   "source": [
    "# DATA SCIENCE INTERNSHIP\n",
    "## WEEK 2 ASSIGNMENT\n",
    "---"
   ]
  },
  {
   "cell_type": "code",
   "execution_count": 1,
   "id": "d8f17e4e",
   "metadata": {},
   "outputs": [],
   "source": [
    "import pandas as pd\n",
    "import numpy as np"
   ]
  },
  {
   "cell_type": "code",
   "execution_count": 2,
   "id": "c0f8e83b",
   "metadata": {},
   "outputs": [
    {
     "name": "stdout",
     "output_type": "stream",
     "text": [
      "[11 33 22 44 66 55]\n",
      "[10 30 20 40 60 50]\n"
     ]
    }
   ],
   "source": [
    "A1=[11,33,22,44,66,55]\n",
    "A2=[10,30,20,40,60,50]\n",
    "arrA1=np.array(A1)\n",
    "arrA2=np.array(A2)\n",
    "print(arrA1)\n",
    "print(arrA2)"
   ]
  },
  {
   "cell_type": "markdown",
   "id": "894acbf8",
   "metadata": {},
   "source": [
    "**1. Extract the elements of array A1 from the index 2 to 5**"
   ]
  },
  {
   "cell_type": "code",
   "execution_count": 3,
   "id": "2b2ba2d5",
   "metadata": {},
   "outputs": [
    {
     "data": {
      "text/plain": [
       "array([22, 44, 66])"
      ]
     },
     "execution_count": 3,
     "metadata": {},
     "output_type": "execute_result"
    }
   ],
   "source": [
    "arrA1[2:5]"
   ]
  },
  {
   "cell_type": "markdown",
   "id": "51807653",
   "metadata": {},
   "source": [
    "**2. Reshape the array A1 into (3,2) size**"
   ]
  },
  {
   "cell_type": "code",
   "execution_count": 4,
   "id": "29a201f8",
   "metadata": {
    "scrolled": true
   },
   "outputs": [
    {
     "name": "stdout",
     "output_type": "stream",
     "text": [
      "[[11 33 22]\n",
      " [44 66 55]]\n"
     ]
    }
   ],
   "source": [
    "arr=arrA1.reshape(2,3)\n",
    "print(arr)"
   ]
  },
  {
   "cell_type": "markdown",
   "id": "c956d10d",
   "metadata": {},
   "source": [
    "**3. Join the two arrays A1 and A2.**"
   ]
  },
  {
   "cell_type": "code",
   "execution_count": 5,
   "id": "d3ad70d3",
   "metadata": {},
   "outputs": [
    {
     "name": "stdout",
     "output_type": "stream",
     "text": [
      "[11 33 22 44 66 55 10 30 20 40 60 50]\n"
     ]
    }
   ],
   "source": [
    "arr = np.concatenate((arrA1, arrA2))\n",
    "print(arr)"
   ]
  },
  {
   "cell_type": "markdown",
   "id": "a4e94b45",
   "metadata": {},
   "source": [
    "**4. Split the array A1 into 3 arrays.**"
   ]
  },
  {
   "cell_type": "code",
   "execution_count": 6,
   "id": "df431755",
   "metadata": {},
   "outputs": [
    {
     "name": "stdout",
     "output_type": "stream",
     "text": [
      "[array([11, 33]), array([22, 44]), array([66, 55])]\n"
     ]
    }
   ],
   "source": [
    "arr = np.array(arrA1)\n",
    "newarr = np.array_split(arr, 3)\n",
    "print(newarr)"
   ]
  },
  {
   "cell_type": "markdown",
   "id": "62c5ee1c",
   "metadata": {},
   "source": [
    "**5. Search for a number 44 in the array A1**"
   ]
  },
  {
   "cell_type": "code",
   "execution_count": 7,
   "id": "d870443f",
   "metadata": {},
   "outputs": [
    {
     "name": "stdout",
     "output_type": "stream",
     "text": [
      "(array([3], dtype=int64),)\n"
     ]
    }
   ],
   "source": [
    "arr = np.array(arrA1)\n",
    "x = np.where(arr == 44)\n",
    "print(x)"
   ]
  },
  {
   "cell_type": "markdown",
   "id": "95b7242f",
   "metadata": {},
   "source": [
    "**6. Print all the even numbers of array A1 using search option.**"
   ]
  },
  {
   "cell_type": "code",
   "execution_count": 8,
   "id": "7d502261",
   "metadata": {},
   "outputs": [
    {
     "name": "stdout",
     "output_type": "stream",
     "text": [
      "[22]\n",
      "[44]\n",
      "[66]\n"
     ]
    }
   ],
   "source": [
    "arr = np.array(arrA1)\n",
    "for i in range(0,len(arr)):\n",
    "   if arr[i]%2==0:\n",
    "    print(arr[np.where(arr==arr[i])])\n",
    "   else:\n",
    "    pass"
   ]
  },
  {
   "cell_type": "markdown",
   "id": "fb465fd7",
   "metadata": {},
   "source": [
    "**7. Sort the numbers of array A2.**"
   ]
  },
  {
   "cell_type": "code",
   "execution_count": 9,
   "id": "a136b533",
   "metadata": {},
   "outputs": [
    {
     "name": "stdout",
     "output_type": "stream",
     "text": [
      "[10 20 30 40 50 60]\n"
     ]
    }
   ],
   "source": [
    "arr = np.array(arrA2)\n",
    "print(np.sort(arr))\n"
   ]
  },
  {
   "cell_type": "markdown",
   "id": "9cd2ef19",
   "metadata": {},
   "source": [
    "**8. Filter the odd numbers in the array A1 using filter option.**"
   ]
  },
  {
   "cell_type": "code",
   "execution_count": 10,
   "id": "84263fc1",
   "metadata": {},
   "outputs": [
    {
     "name": "stdout",
     "output_type": "stream",
     "text": [
      "[11]\n",
      "[33]\n",
      "[55]\n"
     ]
    }
   ],
   "source": [
    "arr = np.array(arrA1)\n",
    "for i in range(0,len(arr)):\n",
    "   if arr[i]%2!=0:\n",
    "    print(arr[np.where(arr==arr[i])])\n",
    "   else:\n",
    "    pass"
   ]
  }
 ],
 "metadata": {
  "kernelspec": {
   "display_name": "Python 3 (ipykernel)",
   "language": "python",
   "name": "python3"
  },
  "language_info": {
   "codemirror_mode": {
    "name": "ipython",
    "version": 3
   },
   "file_extension": ".py",
   "mimetype": "text/x-python",
   "name": "python",
   "nbconvert_exporter": "python",
   "pygments_lexer": "ipython3",
   "version": "3.10.5"
  }
 },
 "nbformat": 4,
 "nbformat_minor": 5
}
